{
  "cells": [
    {
      "cell_type": "markdown",
      "id": "39bf7b14",
      "metadata": {
        "id": "39bf7b14"
      },
      "source": [
        "## Buatlah sebuah program yang:\n",
        "\n",
        "   1. Meminta input dari pengguna:\n",
        "\n",
        "       - Nama mahasiswa\n",
        "\n",
        "       - NIM mahasiswa\n",
        "\n",
        "       - Nilai ujian (dalam angka, 0–100)\n",
        "\n",
        "   2. Cek dan tampilkan tipe data dari setiap input.\n",
        "\n",
        "   3. Gunakan if-elif-else untuk menentukan kategori nilai, dengan kriteria sebagai berikut:\n",
        "   \n",
        "```\n",
        "Nilai | Kategori\n",
        "85 - 100 | A (Sangat Baik)\n",
        "75 - 84 | B (Baik)\n",
        "60 - 74 | C (Cukup)\n",
        "40 - 59 | D (Kurang)\n",
        "< 40 | E (Sangat Kurang)\n",
        "```\n",
        "\n",
        "```\n",
        "==== Ekspektasi Output Jawaban : =====\n",
        "Masukkan nama mahasiswa: Sarah\n",
        "Masukkan NIM: 12345678\n",
        "Masukkan nilai ujian (0-100): 81\n",
        "\n",
        "Nama: Sarah (type: <class 'str'>)\n",
        "NIM: 12345678 (type: <class 'str'>)\n",
        "Nilai: 81 (type: <class 'int'>)\n",
        "\n",
        "Hasil Evaluasi:\n",
        "Mahasiswa: Sarah (NIM: 12345678)\n",
        "Nilai Ujian: 81\n",
        "Kategori Nilai: B (Baik)\n",
        "```"
      ]
    },
    {
      "cell_type": "code",
      "execution_count": null,
      "id": "e2ab644c",
      "metadata": {
        "id": "e2ab644c",
        "colab": {
          "base_uri": "https://localhost:8080/"
        },
        "outputId": "d0c2737b-fe9c-4883-cfb0-97def1a7c6fd"
      },
      "outputs": [
        {
          "output_type": "stream",
          "name": "stdout",
          "text": [
            "Masukkan nama mahasiswa : sarah\n",
            "Masukkan NIM : 12345678\n",
            "Masukkan nilai ujian (0-100) : 81\n",
            "Nama: sarah (type: <class 'str'> )\n",
            "NIM: 12345678 (type: <class 'str'> )\n",
            "Nilai: 81 (type: <class 'int'> )\n",
            "\n",
            "Hasil Evaluasi:\n",
            "Mahasiswa: sarah (NIM: 12345678 )\n",
            "Nilai Ujian: 81\n",
            "Kategori Nilai: B (Baik)\n"
          ]
        }
      ],
      "source": [
        "nama = input(\"Masukkan nama mahasiswa : \")\n",
        "nim = input(\"Masukkan NIM : \")\n",
        "nilai = int(input(\"Masukkan nilai ujian (0-100) : \"))\n",
        "\n",
        "print(\"Nama:\", nama, \"(type:\", type(nama),\")\")\n",
        "print(\"NIM:\", nim, \"(type:\", type(nim),\")\")\n",
        "print(\"Nilai:\", nilai, \"(type:\", type(nilai),\")\")\n",
        "\n",
        "print(\"\\nHasil Evaluasi:\")\n",
        "print(\"Mahasiswa:\", nama, \"(NIM:\", nim,\")\")\n",
        "print(\"Nilai Ujian:\", nilai)\n",
        "\n",
        "if nilai >= 85:\n",
        "    kategori = \"A (Sangat Baik)\"\n",
        "elif nilai >= 75:\n",
        "    kategori = \"B (Baik)\"\n",
        "elif nilai >= 60:\n",
        "    kategori = \"C (Cukup)\"\n",
        "elif nilai >= 40:\n",
        "    kategori = \"D (Kurang)\"\n",
        "else:\n",
        "    kategori = \"E (Sangat Kurang)\"\n",
        "\n",
        "print(\"Kategori Nilai:\", kategori)"
      ]
    }
  ],
  "metadata": {
    "kernelspec": {
      "display_name": "Python 3 (ipykernel)",
      "language": "python",
      "name": "python3"
    },
    "language_info": {
      "codemirror_mode": {
        "name": "ipython",
        "version": 3
      },
      "file_extension": ".py",
      "mimetype": "text/x-python",
      "name": "python",
      "nbconvert_exporter": "python",
      "pygments_lexer": "ipython3",
      "version": "3.11.4"
    },
    "colab": {
      "provenance": []
    }
  },
  "nbformat": 4,
  "nbformat_minor": 5
}